{
  "nbformat": 4,
  "nbformat_minor": 0,
  "metadata": {
    "colab": {
      "name": "Autoencoder_Patryk_Baryła.ipynb",
      "provenance": [],
      "collapsed_sections": [],
      "toc_visible": true,
      "authorship_tag": "ABX9TyO7znYihUFCmWgakjbJlAMJ",
      "include_colab_link": true
    },
    "kernelspec": {
      "name": "python3",
      "display_name": "Python 3"
    }
  },
  "cells": [
    {
      "cell_type": "markdown",
      "metadata": {
        "id": "view-in-github",
        "colab_type": "text"
      },
      "source": [
        "<a href=\"https://colab.research.google.com/github/wranidlo/Autoencoder/blob/master/Autoencoder_Patryk_Bary%C5%82a.ipynb\" target=\"_parent\"><img src=\"https://colab.research.google.com/assets/colab-badge.svg\" alt=\"Open In Colab\"/></a>"
      ]
    },
    {
      "cell_type": "markdown",
      "metadata": {
        "id": "enUZm6coTueG",
        "colab_type": "text"
      },
      "source": [
        "Patryk Baryła \n",
        "136216"
      ]
    },
    {
      "cell_type": "markdown",
      "metadata": {
        "id": "ena8eZmQ-dUw",
        "colab_type": "text"
      },
      "source": [
        "# 2.1 Zarządzanie danymi"
      ]
    },
    {
      "cell_type": "markdown",
      "metadata": {
        "id": "nmzLgyC0Pllh",
        "colab_type": "text"
      },
      "source": [
        "### 2.1.1 Import Bibliotek"
      ]
    },
    {
      "cell_type": "code",
      "metadata": {
        "id": "G-jny1mnTlv4",
        "colab_type": "code",
        "outputId": "f4299dd3-94a4-4c54-b7f6-8ad01ea39d77",
        "colab": {
          "base_uri": "https://localhost:8080/",
          "height": 35
        }
      },
      "source": [
        "from tensorflow.keras.models import Model\n",
        "from tensorflow.keras.layers import Input, Dense \n",
        "from tensorflow.keras.optimizers import Adam\n",
        "from sklearn.model_selection import train_test_split\n",
        "from keras.utils import to_categorical\n",
        "from sklearn import datasets\n",
        "import matplotlib.pyplot as plt\n",
        "import numpy as np"
      ],
      "execution_count": 0,
      "outputs": [
        {
          "output_type": "stream",
          "text": [
            "Using TensorFlow backend.\n"
          ],
          "name": "stderr"
        }
      ]
    },
    {
      "cell_type": "markdown",
      "metadata": {
        "id": "_EOX3V5WQGzg",
        "colab_type": "text"
      },
      "source": [
        "## 2.1.2 Pobierz zbiór danych “digits” z biblioteki sklearn."
      ]
    },
    {
      "cell_type": "code",
      "metadata": {
        "id": "Av-53BoZQLy6",
        "colab_type": "code",
        "colab": {}
      },
      "source": [
        "num_classes = 10\n",
        "\n",
        "digits = datasets.load_digits(n_class=num_classes, return_X_y=False)"
      ],
      "execution_count": 0,
      "outputs": []
    },
    {
      "cell_type": "markdown",
      "metadata": {
        "id": "voiA2YPgQ048",
        "colab_type": "text"
      },
      "source": [
        "## 2.1.3 Wydrukuj informację o tym, z ilu obrazów składa się zbiór danych."
      ]
    },
    {
      "cell_type": "code",
      "metadata": {
        "id": "8cMGMyvjRLUz",
        "colab_type": "code",
        "outputId": "cbd5bb4c-1dd4-4707-c554-fbc7509c8f66",
        "colab": {
          "base_uri": "https://localhost:8080/",
          "height": 35
        }
      },
      "source": [
        "print(\"Zbiór danych składa się z \", digits.images.shape[0], \"obrazów\")"
      ],
      "execution_count": 0,
      "outputs": [
        {
          "output_type": "stream",
          "text": [
            "Zbiór danych składa się z  1797 obrazów\n"
          ],
          "name": "stdout"
        }
      ]
    },
    {
      "cell_type": "markdown",
      "metadata": {
        "id": "gFHAizGvQ53T",
        "colab_type": "text"
      },
      "source": [
        "## 2.1.4 Ile pikseli przypada na każdy obraz, jaki kształt mają obrazy."
      ]
    },
    {
      "cell_type": "code",
      "metadata": {
        "id": "QkdiwIhzRLw-",
        "colab_type": "code",
        "outputId": "1035d91e-04ae-4276-be12-0d4a4276bee3",
        "colab": {
          "base_uri": "https://localhost:8080/",
          "height": 54
        }
      },
      "source": [
        "print(\"Na każdy obraz przypada \", digits.data.shape[1], \"pikseli\")\n",
        "print(\"Obrazy mają wymiary \", digits.images.shape[1], \" x \", \n",
        "      digits.images.shape[2])"
      ],
      "execution_count": 0,
      "outputs": [
        {
          "output_type": "stream",
          "text": [
            "Na każdy obraz przypada  64 pikseli\n",
            "Obrazy mają wymiary  8  x  8\n"
          ],
          "name": "stdout"
        }
      ]
    },
    {
      "cell_type": "markdown",
      "metadata": {
        "id": "NeH8YNLARBnH",
        "colab_type": "text"
      },
      "source": [
        "## 2.1.5 Korzystając z biblioteki matplotlib wydrukuj losowy obraz należący dokażdej z kategorii."
      ]
    },
    {
      "cell_type": "code",
      "metadata": {
        "id": "4yuh6cxsRMM-",
        "colab_type": "code",
        "outputId": "4b94f92e-4f1d-45e4-af6b-89181ed1ed91",
        "colab": {
          "base_uri": "https://localhost:8080/",
          "height": 100
        }
      },
      "source": [
        "print(\"Przykłdadowa reprezentacja każdej cyfry\")\n",
        "plt.figure(figsize=(10, 2))\n",
        "for i in range(0, 10):\n",
        "    ax = plt.subplot(2, 10, i + 11)\n",
        "    plt.imshow(digits.images[digits.target.tolist().index(i)])\n",
        "    plt.gray()\n",
        "    ax.get_xaxis().set_visible(False)\n",
        "    ax.get_yaxis().set_visible(False)\n",
        "plt.show()"
      ],
      "execution_count": 0,
      "outputs": [
        {
          "output_type": "stream",
          "text": [
            "Przykłdadowa reprezentacja każdej cyfry\n"
          ],
          "name": "stdout"
        },
        {
          "output_type": "display_data",
          "data": {
            "image/png": "[encoded data removed]",
            "text/plain": [
              "<Figure size 720x144 with 10 Axes>"
            ]
          },
          "metadata": {
            "tags": [],
            "needs_background": "light"
          }
        }
      ]
    },
    {
      "cell_type": "markdown",
      "metadata": {
        "id": "L2KUPk-TRFMn",
        "colab_type": "text"
      },
      "source": [
        "## 2.1.6 Korzystając z biblioteki matplotlib wydrukuj histogram liczby obrazów należących do danej kategorii."
      ]
    },
    {
      "cell_type": "code",
      "metadata": {
        "id": "GMA7H-SDRMqT",
        "colab_type": "code",
        "outputId": "b8b79b59-5043-4d96-f06a-4a9522ff14c6",
        "colab": {
          "base_uri": "https://localhost:8080/",
          "height": 283
        }
      },
      "source": [
        "print(\"Histogram rozkładu liczby obrazów reprezentujących daną cyfre\")\n",
        "n, bins, patches = plt.hist(digits.target.tolist(), 10, range=(0, 10), \n",
        "                            facecolor='green', alpha=0.5)\n",
        "plt.show()"
      ],
      "execution_count": 0,
      "outputs": [
        {
          "output_type": "stream",
          "text": [
            "Histogram rozkładu liczby obrazów reprezentujących daną cyfre\n"
          ],
          "name": "stdout"
        },
        {
          "output_type": "display_data",
          "data": {
            "image/png": "[encoded data removed]",
            "text/plain": [
              "<Figure size 432x288 with 1 Axes>"
            ]
          },
          "metadata": {
            "tags": [],
            "needs_background": "light"
          }
        }
      ]
    },
    {
      "cell_type": "markdown",
      "metadata": {
        "id": "1ZPlvZpyRswR",
        "colab_type": "text"
      },
      "source": [
        "# 2.2 Budowa prostej sieci neuronowej"
      ]
    },
    {
      "cell_type": "markdown",
      "metadata": {
        "id": "wONge6yuTUBx",
        "colab_type": "text"
      },
      "source": [
        "## 2.2.1 Budowa modelu sieci"
      ]
    },
    {
      "cell_type": "code",
      "metadata": {
        "id": "g5l_loQaUMev",
        "colab_type": "code",
        "colab": {}
      },
      "source": [
        "input_layer = Input(64)\n",
        "dense_layer = Dense(10, activation = \"softmax\")(input_layer)\n",
        "\n",
        "net_model = Model(inputs = input_layer, outputs = dense_layer)"
      ],
      "execution_count": 0,
      "outputs": []
    },
    {
      "cell_type": "markdown",
      "metadata": {
        "id": "8aHc0xQBTk4v",
        "colab_type": "text"
      },
      "source": [
        "## 2.2.2 Kompilacja sieci"
      ]
    },
    {
      "cell_type": "code",
      "metadata": {
        "id": "alSS0G2eUPKJ",
        "colab_type": "code",
        "colab": {}
      },
      "source": [
        "net_model.compile(loss=\"mse\", optimizer = Adam())"
      ],
      "execution_count": 0,
      "outputs": []
    },
    {
      "cell_type": "markdown",
      "metadata": {
        "id": "KwCU6UuoT2VQ",
        "colab_type": "text"
      },
      "source": [
        "## 2.2.3 Uczenie sieci"
      ]
    },
    {
      "cell_type": "code",
      "metadata": {
        "id": "W2ji3U9dUQp9",
        "colab_type": "code",
        "outputId": "3d791511-f6a9-4a32-9e04-cde250d9ac6d",
        "colab": {
          "base_uri": "https://localhost:8080/",
          "height": 35
        }
      },
      "source": [
        "#######\n",
        "#Podział danych na zbiory uczące i testują, oraz przekształcenie danych\n",
        "x = digits.images\n",
        "y = digits.target\n",
        "\n",
        "x_train,x_test,y_train,y_test=train_test_split(x,y,test_size=0.2)\n",
        "\n",
        "y_train = to_categorical(y_train, num_classes)\n",
        "y_test = to_categorical(y_test, num_classes)\n",
        "\n",
        "x_train_reshaped = x_train.reshape(len(x_train),-1)\n",
        "x_test_reshaped = x_test.reshape(len(x_test),-1)\n",
        "\n",
        "#######\n",
        "#Uczenie modelu\n",
        "net_model.fit(x_train_reshaped,y_train,epochs=100,\n",
        "              validation_data=(x_test_reshaped, y_test), verbose=0)"
      ],
      "execution_count": 0,
      "outputs": [
        {
          "output_type": "execute_result",
          "data": {
            "text/plain": [
              "<tensorflow.python.keras.callbacks.History at 0x7f15bcbf8f98>"
            ]
          },
          "metadata": {
            "tags": []
          },
          "execution_count": 9
        }
      ]
    },
    {
      "cell_type": "markdown",
      "metadata": {
        "id": "ZDKMNbjTT5ZY",
        "colab_type": "text"
      },
      "source": [
        "## 2.2.4 Testowanie sieci, która ma za zadanie rozpoznanie cyfr z obrazów"
      ]
    },
    {
      "cell_type": "code",
      "metadata": {
        "id": "3MlTMT8SQz8v",
        "colab_type": "code",
        "outputId": "d0e2f827-9fd4-43b1-a59b-e64bfcbeda3c",
        "colab": {
          "base_uri": "https://localhost:8080/",
          "height": 1000
        }
      },
      "source": [
        "print(\"Testowanie modelu\")\n",
        "i=0\n",
        "for e in x_test_reshaped:\n",
        "  pre = net_model.predict(np.array([e]))\n",
        "  plt.matshow(x_test[i]) \n",
        "  plt.show()\n",
        "  print(\"Przewidziana klasa \", pre.argmax())\n",
        "  print(\"Prawdziwa \", y_test[i].argmax())\n",
        "  if i==20:\n",
        "    break\n",
        "  i+=1"
      ],
      "execution_count": 0,
      "outputs": [
        {
          "output_type": "stream",
          "text": [
            "Testowanie modelu\n"
          ],
          "name": "stdout"
        },
        {
          "output_type": "display_data",
          "data": {
            "image/png": "[encoded data removed]",
            "text/plain": [
              "<Figure size 288x288 with 1 Axes>"
            ]
          },
          "metadata": {
            "tags": [],
            "needs_background": "light"
          }
        },
        {
          "output_type": "stream",
          "text": [
            "Przewidziana klasa  4\n",
            "Prawdziwa  4\n"
          ],
          "name": "stdout"
        },
        {
          "output_type": "display_data",
          "data": {
            "image/png": "[encoded data removed]",
            "text/plain": [
              "<Figure size 288x288 with 1 Axes>"
            ]
          },
          "metadata": {
            "tags": [],
            "needs_background": "light"
          }
        },
        {
          "output_type": "stream",
          "text": [
            "Przewidziana klasa  6\n",
            "Prawdziwa  6\n"
          ],
          "name": "stdout"
        },
        {
          "output_type": "display_data",
          "data": {
            "image/png": "[encoded data removed]",
            "text/plain": [
              "<Figure size 288x288 with 1 Axes>"
            ]
          },
          "metadata": {
            "tags": [],
            "needs_background": "light"
          }
        },
        {
          "output_type": "stream",
          "text": [
            "Przewidziana klasa  6\n",
            "Prawdziwa  1\n"
          ],
          "name": "stdout"
        },
        {
          "output_type": "display_data",
          "data": {
            "image/png": "[encoded data removed]",
            "text/plain": [
              "<Figure size 288x288 with 1 Axes>"
            ]
          },
          "metadata": {
            "tags": [],
            "needs_background": "light"
          }
        },
        {
          "output_type": "stream",
          "text": [
            "Przewidziana klasa  1\n",
            "Prawdziwa  2\n"
          ],
          "name": "stdout"
        },
        {
          "output_type": "display_data",
          "data": {
            "image/png": "[encoded data removed]",
            "text/plain": [
              "<Figure size 288x288 with 1 Axes>"
            ]
          },
          "metadata": {
            "tags": [],
            "needs_background": "light"
          }
        },
        {
          "output_type": "stream",
          "text": [
            "Przewidziana klasa  4\n",
            "Prawdziwa  4\n"
          ],
          "name": "stdout"
        },
        {
          "output_type": "display_data",
          "data": {
            "image/png": "[encoded data removed]",
            "text/plain": [
              "<Figure size 288x288 with 1 Axes>"
            ]
          },
          "metadata": {
            "tags": [],
            "needs_background": "light"
          }
        },
        {
          "output_type": "stream",
          "text": [
            "Przewidziana klasa  5\n",
            "Prawdziwa  5\n"
          ],
          "name": "stdout"
        },
        {
          "output_type": "display_data",
          "data": {
            "image/png": "[encoded data removed]",
            "text/plain": [
              "<Figure size 288x288 with 1 Axes>"
            ]
          },
          "metadata": {
            "tags": [],
            "needs_background": "light"
          }
        },
        {
          "output_type": "stream",
          "text": [
            "Przewidziana klasa  3\n",
            "Prawdziwa  3\n"
          ],
          "name": "stdout"
        },
        {
          "output_type": "display_data",
          "data": {
            "image/png": "[encoded data removed]",
            "text/plain": [
              "<Figure size 288x288 with 1 Axes>"
            ]
          },
          "metadata": {
            "tags": [],
            "needs_background": "light"
          }
        },
        {
          "output_type": "stream",
          "text": [
            "Przewidziana klasa  0\n",
            "Prawdziwa  0\n"
          ],
          "name": "stdout"
        },
        {
          "output_type": "display_data",
          "data": {
            "image/png": "[encoded data removed]",
            "text/plain": [
              "<Figure size 288x288 with 1 Axes>"
            ]
          },
          "metadata": {
            "tags": [],
            "needs_background": "light"
          }
        },
        {
          "output_type": "stream",
          "text": [
            "Przewidziana klasa  3\n",
            "Prawdziwa  2\n"
          ],
          "name": "stdout"
        },
        {
          "output_type": "display_data",
          "data": {
            "image/png": "[encoded data removed]",
            "text/plain": [
              "<Figure size 288x288 with 1 Axes>"
            ]
          },
          "metadata": {
            "tags": [],
            "needs_background": "light"
          }
        },
        {
          "output_type": "stream",
          "text": [
            "Przewidziana klasa  0\n",
            "Prawdziwa  0\n"
          ],
          "name": "stdout"
        },
        {
          "output_type": "display_data",
          "data": {
            "image/png": "[encoded data removed]",
            "text/plain": [
              "<Figure size 288x288 with 1 Axes>"
            ]
          },
          "metadata": {
            "tags": [],
            "needs_background": "light"
          }
        },
        {
          "output_type": "stream",
          "text": [
            "Przewidziana klasa  6\n",
            "Prawdziwa  6\n"
          ],
          "name": "stdout"
        },
        {
          "output_type": "display_data",
          "data": {
            "image/png": "[encoded data removed]",
            "text/plain": [
              "<Figure size 288x288 with 1 Axes>"
            ]
          },
          "metadata": {
            "tags": [],
            "needs_background": "light"
          }
        },
        {
          "output_type": "stream",
          "text": [
            "Przewidziana klasa  1\n",
            "Prawdziwa  1\n"
          ],
          "name": "stdout"
        },
        {
          "output_type": "display_data",
          "data": {
            "image/png": "[encoded data removed]",
            "text/plain": [
              "<Figure size 288x288 with 1 Axes>"
            ]
          },
          "metadata": {
            "tags": [],
            "needs_background": "light"
          }
        },
        {
          "output_type": "stream",
          "text": [
            "Przewidziana klasa  8\n",
            "Prawdziwa  2\n"
          ],
          "name": "stdout"
        },
        {
          "output_type": "display_data",
          "data": {
            "image/png": "[encoded data removed]",
            "text/plain": [
              "<Figure size 288x288 with 1 Axes>"
            ]
          },
          "metadata": {
            "tags": [],
            "needs_background": "light"
          }
        },
        {
          "output_type": "stream",
          "text": [
            "Przewidziana klasa  4\n",
            "Prawdziwa  4\n"
          ],
          "name": "stdout"
        },
        {
          "output_type": "display_data",
          "data": {
            "image/png": "[encoded data removed]",
            "text/plain": [
              "<Figure size 288x288 with 1 Axes>"
            ]
          },
          "metadata": {
            "tags": [],
            "needs_background": "light"
          }
        },
        {
          "output_type": "stream",
          "text": [
            "Przewidziana klasa  1\n",
            "Prawdziwa  7\n"
          ],
          "name": "stdout"
        },
        {
          "output_type": "display_data",
          "data": {
            "image/png": "[encoded data removed]",
            "text/plain": [
              "<Figure size 288x288 with 1 Axes>"
            ]
          },
          "metadata": {
            "tags": [],
            "needs_background": "light"
          }
        },
        {
          "output_type": "stream",
          "text": [
            "Przewidziana klasa  5\n",
            "Prawdziwa  5\n"
          ],
          "name": "stdout"
        },
        {
          "output_type": "display_data",
          "data": {
            "image/png": "[encoded data removed]",
            "text/plain": [
              "<Figure size 288x288 with 1 Axes>"
            ]
          },
          "metadata": {
            "tags": [],
            "needs_background": "light"
          }
        },
        {
          "output_type": "stream",
          "text": [
            "Przewidziana klasa  4\n",
            "Prawdziwa  2\n"
          ],
          "name": "stdout"
        },
        {
          "output_type": "display_data",
          "data": {
            "image/png": "[encoded data removed]",
            "text/plain": [
              "<Figure size 288x288 with 1 Axes>"
            ]
          },
          "metadata": {
            "tags": [],
            "needs_background": "light"
          }
        },
        {
          "output_type": "stream",
          "text": [
            "Przewidziana klasa  4\n",
            "Prawdziwa  4\n"
          ],
          "name": "stdout"
        },
        {
          "output_type": "display_data",
          "data": {
            "image/png": "[encoded data removed]",
            "text/plain": [
              "<Figure size 288x288 with 1 Axes>"
            ]
          },
          "metadata": {
            "tags": [],
            "needs_background": "light"
          }
        },
        {
          "output_type": "stream",
          "text": [
            "Przewidziana klasa  9\n",
            "Prawdziwa  9\n"
          ],
          "name": "stdout"
        },
        {
          "output_type": "display_data",
          "data": {
            "image/png": "[encoded data removed]",
            "text/plain": [
              "<Figure size 288x288 with 1 Axes>"
            ]
          },
          "metadata": {
            "tags": [],
            "needs_background": "light"
          }
        },
        {
          "output_type": "stream",
          "text": [
            "Przewidziana klasa  5\n",
            "Prawdziwa  2\n"
          ],
          "name": "stdout"
        },
        {
          "output_type": "display_data",
          "data": {
            "image/png": "[encoded data removed]",
            "text/plain": [
              "<Figure size 288x288 with 1 Axes>"
            ]
          },
          "metadata": {
            "tags": [],
            "needs_background": "light"
          }
        },
        {
          "output_type": "stream",
          "text": [
            "Przewidziana klasa  1\n",
            "Prawdziwa  1\n"
          ],
          "name": "stdout"
        }
      ]
    },
    {
      "cell_type": "markdown",
      "metadata": {
        "id": "GJMT0XXg-sNl",
        "colab_type": "text"
      },
      "source": [
        "# 2.3 Budowa Autoencodera"
      ]
    },
    {
      "cell_type": "code",
      "metadata": {
        "id": "pyzCPiv3IXqc",
        "colab_type": "code",
        "outputId": "1049884d-7cd0-4e4c-f1eb-5e082cef15d6",
        "colab": {
          "base_uri": "https://localhost:8080/",
          "height": 184
        }
      },
      "source": [
        "from sklearn import datasets\n",
        "from sklearn.model_selection import train_test_split\n",
        "from tensorflow.keras.layers import Input, Dense\n",
        "from tensorflow.keras.models import Model\n",
        "from tensorflow.keras.optimizers import Adam\n",
        "import numpy as np\n",
        "import matplotlib.pyplot as plt\n",
        "import random\n",
        "\n",
        "encoding_dim = 16\n",
        "\n",
        "input = Input(64)\n",
        "encoded = Dense(encoding_dim, activation='relu')(input)\n",
        "decoded = Dense(64, activation='linear')(encoded)\n",
        "\n",
        "#Autoencoder\n",
        "autoencoder = Model(input, decoded)\n",
        "\n",
        "#Encoder\n",
        "encoder = Model(input, encoded)\n",
        "\n",
        "#Decoder\n",
        "encoded_input = Input(encoding_dim)\n",
        "decoder_layer = autoencoder.layers[-1]\n",
        "decoder = Model(encoded_input, decoder_layer(encoded_input))\n",
        "\n",
        "autoencoder.compile(loss=\"mse\", optimizer = Adam())\n",
        "\n",
        "\n",
        "digits = datasets.load_digits(n_class=10, return_X_y=False)\n",
        "x = digits.images\n",
        "y = digits.target\n",
        "x_train,x_test,y_train,y_test=train_test_split(x,y,test_size=0.2)\n",
        "x_train = x_train.reshape(len(x_train),-1)\n",
        "x_test = x_test.reshape(len(x_test),-1)\n",
        "\n",
        "\n",
        "autoencoder.fit(x_train, x_train,\n",
        "                epochs=100,\n",
        "                validation_data=(x_test, x_test), verbose=0)\n",
        "\n",
        "encoded_imgs = encoder.predict(x_test)\n",
        "decoded_imgs = decoder.predict(encoded_imgs)\n",
        "\n",
        "n=10\n",
        "plt.figure(figsize=(20, 4))\n",
        "for i in range(0, 10):\n",
        "    ax = plt.subplot(2, n, i + 1)\n",
        "    plt.imshow(x_test[i].reshape(8, 8))\n",
        "    plt.gray()\n",
        "    ax.get_xaxis().set_visible(False)\n",
        "    ax.get_yaxis().set_visible(False)\n",
        "\n",
        "    ax = plt.subplot(2, n, i + 1 + n)\n",
        "    plt.imshow(decoded_imgs[i].reshape(8, 8))\n",
        "    plt.gray()\n",
        "    ax.get_xaxis().set_visible(False)\n",
        "    ax.get_yaxis().set_visible(False)\n",
        "plt.show()"
      ],
      "execution_count": 0,
      "outputs": [
        {
          "output_type": "display_data",
          "data": {
            "image/png": "[encoded data removed]",
            "text/plain": [
              "<Figure size 1440x288 with 20 Axes>"
            ]
          },
          "metadata": {
            "tags": [],
            "needs_background": "light"
          }
        }
      ]
    },
    {
      "cell_type": "markdown",
      "metadata": {
        "id": "eRtdDCbH-117",
        "colab_type": "text"
      },
      "source": [
        "# 2.4  Wykorzystanie elementów autoencodera"
      ]
    },
    {
      "cell_type": "markdown",
      "metadata": {
        "id": "JgIeM4dWWy7W",
        "colab_type": "text"
      },
      "source": [
        "## 2.4.1 Posługując się dokumentacją biblioteki Keras wyodrębnij wagi każdej z warstw Twojego Autoencodera."
      ]
    },
    {
      "cell_type": "code",
      "metadata": {
        "id": "Sra4lMIaXu0q",
        "colab_type": "code",
        "outputId": "728a9d95-6679-41ab-f48a-6ea49ef732ea",
        "colab": {
          "base_uri": "https://localhost:8080/",
          "height": 745
        }
      },
      "source": [
        "weights = autoencoder.get_weights()\n",
        "for e in weights:\n",
        "  print(\"Layer weights :\", e)"
      ],
      "execution_count": 0,
      "outputs": [
        {
          "output_type": "stream",
          "text": [
            "Layer weights : [[ 0.0916996  -0.04339975  0.02598158 ... -0.14349677 -0.07053605\n",
            "  -0.21597843]\n",
            " [-0.0079277  -0.06709017 -0.00642264 ... -0.03208409 -0.05963029\n",
            "  -0.02356209]\n",
            " [ 0.02140678  0.03647389  0.04716788 ...  0.13994445 -0.14371914\n",
            "   0.05589449]\n",
            " ...\n",
            " [ 0.42472622 -0.07531501  0.21329564 ... -0.14625214  0.1509232\n",
            "  -0.03634981]\n",
            " [ 0.17669947 -0.04606657  0.28442553 ... -0.09112336  0.10061429\n",
            "  -0.00326381]\n",
            " [ 0.01867325  0.00336102  0.11600491 ... -0.01403393  0.03554319\n",
            "  -0.02812409]]\n",
            "Layer weights : [-0.00876253  0.05593192  0.03674494 -0.06547134  0.08650187  0.05056166\n",
            "  0.06004573  0.02841419  0.07157493  0.07612186  0.08748382  0.02670679\n",
            "  0.0873066   0.04304277  0.08149351  0.03974083]\n",
            "Layer weights : [[ 1.8849292e-04 -1.7392432e-03  2.9369686e-02 ...  4.8463506e-01\n",
            "   1.6807118e-01  6.7706681e-03]\n",
            " [ 3.3110293e-05 -1.6389413e-02  2.8303247e-02 ... -1.0072893e-01\n",
            "  -7.4221291e-02  6.1210822e-03]\n",
            " [ 9.0562411e-05 -3.5994512e-03  5.3153962e-02 ...  2.4711509e-01\n",
            "   3.3806065e-01  1.2815192e-01]\n",
            " ...\n",
            " [ 1.5550663e-04 -6.2192171e-03  9.3213230e-02 ... -2.6595265e-01\n",
            "  -1.8597737e-01 -3.1677149e-02]\n",
            " [ 8.1057893e-05 -3.0433476e-02 -2.6418135e-01 ...  5.1496901e-02\n",
            "   9.5434070e-02  2.8791172e-02]\n",
            " [ 1.2143723e-04  2.8224748e-03  7.5698741e-02 ... -1.2605464e-01\n",
            "  -3.6558926e-02 -4.6311498e-02]]\n",
            "Layer weights : [-0.03644666  0.04502163 -0.03697022  0.071663    0.12609586  0.13778715\n",
            "  0.09975355  0.05222633  0.02486241  0.00997553 -0.01432546  0.19067496\n",
            "  0.01045302 -0.00481051  0.16580305  0.08417286  0.03295003  0.09227927\n",
            " -0.14744093  0.04516431  0.15322365 -0.10050222  0.18667366  0.08155004\n",
            "  0.07999199  0.15602     0.10828434 -0.0228461   0.17557304 -0.07648224\n",
            "  0.18257849  0.0040996   0.08820763  0.25782642 -0.0374198  -0.03587654\n",
            "  0.1395141   0.07491554  0.0052346  -0.00160637  0.02461641  0.14605221\n",
            " -0.05031609  0.05968289  0.1458507  -0.12456007  0.01358455  0.01480112\n",
            "  0.06566001 -0.04089386  0.01976537 -0.07192729 -0.09542853 -0.11740307\n",
            "  0.03573982  0.00876674 -0.00509092 -0.03327356  0.049927    0.22914276\n",
            "  0.24685328  0.08899681 -0.00847064 -0.05473471]\n"
          ],
          "name": "stdout"
        }
      ]
    },
    {
      "cell_type": "markdown",
      "metadata": {
        "id": "DXSDREjLW24w",
        "colab_type": "text"
      },
      "source": [
        "## 2.4.2 Zbuduj sam decoder oraz sam encoder."
      ]
    },
    {
      "cell_type": "code",
      "metadata": {
        "id": "jsE5qDqBaRgP",
        "colab_type": "code",
        "colab": {}
      },
      "source": [
        "encoder = Model(input, encoded)\n",
        "decoder_layer = autoencoder.layers[2]\n",
        "decoder = Model(encoded_input, decoder_layer(encoded_input))"
      ],
      "execution_count": 0,
      "outputs": []
    },
    {
      "cell_type": "markdown",
      "metadata": {
        "id": "ALWmPTijW7TZ",
        "colab_type": "text"
      },
      "source": [
        "## 2.4.3 Posługując się samym encoderem skonstruuj zestaw zanużeń (embeddings) dla każdej z cyfr."
      ]
    },
    {
      "cell_type": "code",
      "metadata": {
        "id": "j4tmtZIaa_G7",
        "colab_type": "code",
        "outputId": "cdf1ac46-5cda-4691-df2a-b01aaffc34b7",
        "colab": {
          "base_uri": "https://localhost:8080/",
          "height": 819
        }
      },
      "source": [
        "encoded_img = encoder.predict(x_train)\n",
        "indexes = []\n",
        "for i in range(0,10):\n",
        "  index = np.argwhere(y_train==i)\n",
        "  indexes.append(index)\n",
        "embaddings = []\n",
        "for i in range(0,10):\n",
        "  emb = encoded_img[indexes[i]]\n",
        "  embaddings.append(np.average(emb.reshape(len(emb),16),axis=0))\n",
        "\n",
        "r = random.randrange(0,len(x_train))\n",
        "print(\"Przykładowy obraz\")\n",
        "plt.imshow(x_train[r:r+1].reshape(8,8))\n",
        "plt.show()\n",
        "print(\"Zakodowany\")\n",
        "plt.imshow(encoded_img[r:r+1].reshape(4,4))\n",
        "plt.show()\n",
        "print(\"Odkodowany\")\n",
        "plt.imshow(decoder.predict(encoded_img[r:r+1]).reshape(8,8))\n",
        "plt.show()"
      ],
      "execution_count": 0,
      "outputs": [
        {
          "output_type": "stream",
          "text": [
            "Przykładowy obraz\n"
          ],
          "name": "stdout"
        },
        {
          "output_type": "display_data",
          "data": {
            "image/png": "[encoded data removed]",
            "text/plain": [
              "<Figure size 432x288 with 1 Axes>"
            ]
          },
          "metadata": {
            "tags": [],
            "needs_background": "light"
          }
        },
        {
          "output_type": "stream",
          "text": [
            "Zakodowany\n"
          ],
          "name": "stdout"
        },
        {
          "output_type": "display_data",
          "data": {
            "image/png": "[encoded data removed]",
            "text/plain": [
              "<Figure size 432x288 with 1 Axes>"
            ]
          },
          "metadata": {
            "tags": [],
            "needs_background": "light"
          }
        },
        {
          "output_type": "stream",
          "text": [
            "Odkodowany\n"
          ],
          "name": "stdout"
        },
        {
          "output_type": "display_data",
          "data": {
            "image/png": "[encoded data removed]",
            "text/plain": [
              "<Figure size 432x288 with 1 Axes>"
            ]
          },
          "metadata": {
            "tags": [],
            "needs_background": "light"
          }
        }
      ]
    },
    {
      "cell_type": "markdown",
      "metadata": {
        "id": "TmAwhcCgW_Nh",
        "colab_type": "text"
      },
      "source": [
        "## 2.4.4 Posługując się zestawem zanużeń oraz dekoderem, skonstruuj narzędzie, które napisze na ekranie zadaną liczbę."
      ]
    },
    {
      "cell_type": "code",
      "metadata": {
        "id": "kUyyc6W6sQvs",
        "colab_type": "code",
        "outputId": "24869d4a-5ccb-4586-90bc-4a4983a36b63",
        "colab": {
          "base_uri": "https://localhost:8080/",
          "height": 100
        }
      },
      "source": [
        "def get_number(i):\n",
        "  return embaddings[i:i+1]\n",
        "\n",
        "print(\"Działanie dla wszystkich cyfr\")\n",
        "plt.figure(figsize=(10, 2))\n",
        "for i in range(0, 10):\n",
        "    ax = plt.subplot(2, 10, i + 11)\n",
        "    plt.imshow(decoder.predict(np.array(get_number(i))).reshape(8,8))\n",
        "    plt.gray()\n",
        "    ax.get_xaxis().set_visible(False)\n",
        "    ax.get_yaxis().set_visible(False)\n",
        "plt.show()"
      ],
      "execution_count": 0,
      "outputs": [
        {
          "output_type": "stream",
          "text": [
            "Działanie dla wszystkich cyfr\n"
          ],
          "name": "stdout"
        },
        {
          "output_type": "display_data",
          "data": {
            "image/png": "[encoded data removed]",
            "text/plain": [
              "<Figure size 720x144 with 10 Axes>"
            ]
          },
          "metadata": {
            "tags": [],
            "needs_background": "light"
          }
        }
      ]
    },
    {
      "cell_type": "markdown",
      "metadata": {
        "id": "TbfCVQECNzBR",
        "colab_type": "text"
      },
      "source": [
        "## 2.4.5 Rozszerz zestaw zanużeń o wartości statystyczne i skonstruuj narzędzie, którebędzie wykorzystywało zbudowane rozkłady do wprowadzania “losowości”do pisanych cyfr."
      ]
    },
    {
      "cell_type": "code",
      "metadata": {
        "id": "esHhhPmbN535",
        "colab_type": "code",
        "outputId": "2a115cb6-b73b-4a71-c4e8-fe6a3fa2583a",
        "colab": {
          "base_uri": "https://localhost:8080/",
          "height": 100
        }
      },
      "source": [
        "standard = []\n",
        "for i in range(0,10):\n",
        "  standard.append(np.std(embaddings,axis=0))\n",
        "\n",
        "after_randomizing = []\n",
        "for i in range(0,10):\n",
        "  after_randomizing.append(np.random.normal(embaddings[i], standard[i]))\n",
        "\n",
        "def get_number_rand(i):\n",
        "  return after_randomizing[i:i+1]\n",
        "\n",
        "print(\"Działanie dla wszystkich cyfr po dodaniu losowości\")\n",
        "plt.figure(figsize=(10, 2))\n",
        "for i in range(0, 10):\n",
        "    ax = plt.subplot(2, 10, i + 11)\n",
        "    plt.imshow(decoder.predict(np.array(get_number_rand(i))).reshape(8,8))\n",
        "    plt.gray()\n",
        "    ax.get_xaxis().set_visible(False)\n",
        "    ax.get_yaxis().set_visible(False)\n",
        "plt.show()"
      ],
      "execution_count": 0,
      "outputs": [
        {
          "output_type": "stream",
          "text": [
            "Działanie dla wszystkich cyfr po dodaniu losowości\n"
          ],
          "name": "stdout"
        },
        {
          "output_type": "display_data",
          "data": {
            "image/png": "[encoded data removed]",
            "text/plain": [
              "<Figure size 720x144 with 10 Axes>"
            ]
          },
          "metadata": {
            "tags": [],
            "needs_background": "light"
          }
        }
      ]
    }
  ]
}